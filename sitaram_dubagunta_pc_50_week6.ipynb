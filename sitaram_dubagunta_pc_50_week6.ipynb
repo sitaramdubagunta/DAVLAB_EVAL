{
 "cells": [
  {
   "cell_type": "code",
   "execution_count": 6,
   "id": "3510db8a",
   "metadata": {},
   "outputs": [
    {
     "data": {
      "text/html": [
       "<div>\n",
       "<style scoped>\n",
       "    .dataframe tbody tr th:only-of-type {\n",
       "        vertical-align: middle;\n",
       "    }\n",
       "\n",
       "    .dataframe tbody tr th {\n",
       "        vertical-align: top;\n",
       "    }\n",
       "\n",
       "    .dataframe thead th {\n",
       "        text-align: right;\n",
       "    }\n",
       "</style>\n",
       "<table border=\"1\" class=\"dataframe\">\n",
       "  <thead>\n",
       "    <tr style=\"text-align: right;\">\n",
       "      <th></th>\n",
       "      <th>name</th>\n",
       "      <th>mfr</th>\n",
       "      <th>type</th>\n",
       "      <th>calories</th>\n",
       "      <th>protein</th>\n",
       "      <th>fat</th>\n",
       "      <th>sodium</th>\n",
       "      <th>fiber</th>\n",
       "      <th>carbo</th>\n",
       "      <th>sugars</th>\n",
       "      <th>potass</th>\n",
       "      <th>vitamins</th>\n",
       "      <th>shelf</th>\n",
       "      <th>weight</th>\n",
       "      <th>cups</th>\n",
       "      <th>rating</th>\n",
       "    </tr>\n",
       "  </thead>\n",
       "  <tbody>\n",
       "    <tr>\n",
       "      <th>0</th>\n",
       "      <td>100NaturalBran</td>\n",
       "      <td>Q</td>\n",
       "      <td>C</td>\n",
       "      <td>120</td>\n",
       "      <td>3</td>\n",
       "      <td>5</td>\n",
       "      <td>15</td>\n",
       "      <td>2.0</td>\n",
       "      <td>8.0</td>\n",
       "      <td>8.0</td>\n",
       "      <td>135.0</td>\n",
       "      <td>0</td>\n",
       "      <td>3</td>\n",
       "      <td>1.0</td>\n",
       "      <td>1.00</td>\n",
       "      <td>33.983679</td>\n",
       "    </tr>\n",
       "    <tr>\n",
       "      <th>1</th>\n",
       "      <td>All-Bran</td>\n",
       "      <td>K</td>\n",
       "      <td>C</td>\n",
       "      <td>70</td>\n",
       "      <td>4</td>\n",
       "      <td>1</td>\n",
       "      <td>260</td>\n",
       "      <td>9.0</td>\n",
       "      <td>7.0</td>\n",
       "      <td>5.0</td>\n",
       "      <td>320.0</td>\n",
       "      <td>25</td>\n",
       "      <td>3</td>\n",
       "      <td>1.0</td>\n",
       "      <td>0.33</td>\n",
       "      <td>59.425505</td>\n",
       "    </tr>\n",
       "    <tr>\n",
       "      <th>2</th>\n",
       "      <td>All-BranwithExtraFiber</td>\n",
       "      <td>K</td>\n",
       "      <td>C</td>\n",
       "      <td>50</td>\n",
       "      <td>4</td>\n",
       "      <td>0</td>\n",
       "      <td>140</td>\n",
       "      <td>14.0</td>\n",
       "      <td>8.0</td>\n",
       "      <td>0.0</td>\n",
       "      <td>330.0</td>\n",
       "      <td>25</td>\n",
       "      <td>3</td>\n",
       "      <td>1.0</td>\n",
       "      <td>0.50</td>\n",
       "      <td>93.704912</td>\n",
       "    </tr>\n",
       "    <tr>\n",
       "      <th>3</th>\n",
       "      <td>AlmondDelight</td>\n",
       "      <td>R</td>\n",
       "      <td>C</td>\n",
       "      <td>110</td>\n",
       "      <td>2</td>\n",
       "      <td>2</td>\n",
       "      <td>200</td>\n",
       "      <td>1.0</td>\n",
       "      <td>14.0</td>\n",
       "      <td>8.0</td>\n",
       "      <td>NaN</td>\n",
       "      <td>25</td>\n",
       "      <td>3</td>\n",
       "      <td>1.0</td>\n",
       "      <td>0.75</td>\n",
       "      <td>34.384843</td>\n",
       "    </tr>\n",
       "    <tr>\n",
       "      <th>4</th>\n",
       "      <td>AppleCinnamonCheerios</td>\n",
       "      <td>G</td>\n",
       "      <td>C</td>\n",
       "      <td>110</td>\n",
       "      <td>2</td>\n",
       "      <td>2</td>\n",
       "      <td>180</td>\n",
       "      <td>1.5</td>\n",
       "      <td>10.5</td>\n",
       "      <td>10.0</td>\n",
       "      <td>70.0</td>\n",
       "      <td>25</td>\n",
       "      <td>1</td>\n",
       "      <td>1.0</td>\n",
       "      <td>0.75</td>\n",
       "      <td>29.509541</td>\n",
       "    </tr>\n",
       "  </tbody>\n",
       "</table>\n",
       "</div>"
      ],
      "text/plain": [
       "                     name mfr type  calories  protein  fat  sodium  fiber  \\\n",
       "0          100NaturalBran   Q    C       120        3    5      15    2.0   \n",
       "1                All-Bran   K    C        70        4    1     260    9.0   \n",
       "2  All-BranwithExtraFiber   K    C        50        4    0     140   14.0   \n",
       "3           AlmondDelight   R    C       110        2    2     200    1.0   \n",
       "4   AppleCinnamonCheerios   G    C       110        2    2     180    1.5   \n",
       "\n",
       "   carbo  sugars  potass  vitamins  shelf  weight  cups     rating  \n",
       "0    8.0     8.0   135.0         0      3     1.0  1.00  33.983679  \n",
       "1    7.0     5.0   320.0        25      3     1.0  0.33  59.425505  \n",
       "2    8.0     0.0   330.0        25      3     1.0  0.50  93.704912  \n",
       "3   14.0     8.0     NaN        25      3     1.0  0.75  34.384843  \n",
       "4   10.5    10.0    70.0        25      1     1.0  0.75  29.509541  "
      ]
     },
     "execution_count": 6,
     "metadata": {},
     "output_type": "execute_result"
    }
   ],
   "source": [
    "#SITARAM DUBAGUNTA PC 50 240911624\n",
    "import pandas as pd\n",
    "import matplotlib.pyplot as plt\n",
    "import seaborn as sns\n",
    "\n",
    "# Load the cleaned dataset\n",
    "file_path = \"Cereals_Cleaned.csv\"  \n",
    "df = pd.read_csv(file_path)\n",
    "\n",
    "# Display first few rows\n",
    "df.head()\n"
   ]
  },
  {
   "cell_type": "markdown",
   "id": "24af14a4",
   "metadata": {},
   "source": [
    "## 1. How many unique cereal brands are there in the dataset?"
   ]
  },
  {
   "cell_type": "code",
   "execution_count": 9,
   "id": "677308c6",
   "metadata": {},
   "outputs": [
    {
     "data": {
      "text/plain": [
       "76"
      ]
     },
     "execution_count": 9,
     "metadata": {},
     "output_type": "execute_result"
    }
   ],
   "source": [
    "\n",
    "# Count unique cereal brands (assuming 'name' represents unique cereals)\n",
    "unique_cereals = df['name'].nunique()\n",
    "unique_cereals\n"
   ]
  },
  {
   "cell_type": "markdown",
   "id": "7ceab14c",
   "metadata": {},
   "source": [
    "## 2. How many cereals are listed per manufacturer?"
   ]
  },
  {
   "cell_type": "code",
   "execution_count": 12,
   "id": "9d2c9b14",
   "metadata": {},
   "outputs": [
    {
     "data": {
      "text/plain": [
       "mfr\n",
       "K    23\n",
       "G    22\n",
       "P     9\n",
       "Q     8\n",
       "R     8\n",
       "N     5\n",
       "A     1\n",
       "Name: count, dtype: int64"
      ]
     },
     "execution_count": 12,
     "metadata": {},
     "output_type": "execute_result"
    }
   ],
   "source": [
    "\n",
    "# Count cereals per manufacturer\n",
    "cereals_per_manufacturer = df['mfr'].value_counts()\n",
    "cereals_per_manufacturer\n"
   ]
  },
  {
   "cell_type": "markdown",
   "id": "94d9bcc0",
   "metadata": {},
   "source": [
    "## 3. How many hot vs cold cereals?"
   ]
  },
  {
   "cell_type": "code",
   "execution_count": 15,
   "id": "78c5bdc7",
   "metadata": {},
   "outputs": [
    {
     "data": {
      "text/plain": [
       "type\n",
       "C    73\n",
       "H     3\n",
       "Name: count, dtype: int64"
      ]
     },
     "execution_count": 15,
     "metadata": {},
     "output_type": "execute_result"
    }
   ],
   "source": [
    "\n",
    "# Count cereals by type (Hot vs Cold)\n",
    "hot_vs_cold = df['type'].value_counts()\n",
    "hot_vs_cold\n"
   ]
  },
  {
   "cell_type": "markdown",
   "id": "4d69445c",
   "metadata": {},
   "source": [
    "## 4. Which is the best and worst cereal?"
   ]
  },
  {
   "cell_type": "code",
   "execution_count": 18,
   "id": "62144c20",
   "metadata": {},
   "outputs": [
    {
     "data": {
      "text/plain": [
       "(name        All-BranwithExtraFiber\n",
       " mfr                              K\n",
       " type                             C\n",
       " calories                        50\n",
       " protein                          4\n",
       " fat                              0\n",
       " sodium                         140\n",
       " fiber                         14.0\n",
       " carbo                          8.0\n",
       " sugars                         0.0\n",
       " potass                       330.0\n",
       " vitamins                        25\n",
       " shelf                            3\n",
       " weight                         1.0\n",
       " cups                           0.5\n",
       " rating                   93.704912\n",
       " Name: 2, dtype: object,\n",
       " name        CapnCrunch\n",
       " mfr                  Q\n",
       " type                 C\n",
       " calories           120\n",
       " protein              1\n",
       " fat                  2\n",
       " sodium             220\n",
       " fiber              0.0\n",
       " carbo             12.0\n",
       " sugars            12.0\n",
       " potass            35.0\n",
       " vitamins            25\n",
       " shelf                2\n",
       " weight             1.0\n",
       " cups              0.75\n",
       " rating       18.042851\n",
       " Name: 9, dtype: object)"
      ]
     },
     "execution_count": 18,
     "metadata": {},
     "output_type": "execute_result"
    }
   ],
   "source": [
    "\n",
    "# Best and worst cereals based on rating\n",
    "best_cereal = df.loc[df['rating'].idxmax()]\n",
    "worst_cereal = df.loc[df['rating'].idxmin()]\n",
    "best_cereal, worst_cereal\n"
   ]
  },
  {
   "cell_type": "markdown",
   "id": "cbde53fc",
   "metadata": {},
   "source": [
    "## 5. Compare the rating for hot vs cold cereals. Which do people prefer?"
   ]
  },
  {
   "cell_type": "code",
   "execution_count": 21,
   "id": "c3236d75",
   "metadata": {},
   "outputs": [
    {
     "data": {
      "text/plain": [
       "type\n",
       "C    41.734838\n",
       "H    56.737708\n",
       "Name: rating, dtype: float64"
      ]
     },
     "execution_count": 21,
     "metadata": {},
     "output_type": "execute_result"
    }
   ],
   "source": [
    "\n",
    "# Compare average rating of hot vs cold cereals\n",
    "rating_comparison = df.groupby('type')['rating'].mean()\n",
    "rating_comparison\n"
   ]
  },
  {
   "cell_type": "markdown",
   "id": "31ab7bc9",
   "metadata": {},
   "source": [
    "## 6. Which cereals have the highest fiber and lowest sugar?"
   ]
  },
  {
   "cell_type": "code",
   "execution_count": 24,
   "id": "1b0d806c",
   "metadata": {},
   "outputs": [
    {
     "data": {
      "text/plain": [
       "(                     name mfr type  calories  protein  fat  sodium  fiber  \\\n",
       " 2  All-BranwithExtraFiber   K    C        50        4    0     140   14.0   \n",
       " \n",
       "    carbo  sugars  potass  vitamins  shelf  weight  cups     rating  \n",
       " 2    8.0     0.0   330.0        25      3     1.0   0.5  93.704912  ,\n",
       "                       name mfr type  calories  protein  fat  sodium  fiber  \\\n",
       " 2   All-BranwithExtraFiber   K    C        50        4    0     140   14.0   \n",
       " 19       CreamofWheatQuick   N    H       100        3    0      80    1.0   \n",
       " 53              PuffedRice   Q    C        50        1    0       0    0.0   \n",
       " 54             PuffedWheat   Q    C        50        2    0       0    1.0   \n",
       " 62           ShreddedWheat   N    C        80        2    0       0    3.0   \n",
       " 63      ShreddedWheatnBran   N    C        90        3    0       0    4.0   \n",
       " 64  ShreddedWheatspoonsize   N    C        90        3    0       0    3.0   \n",
       " \n",
       "     carbo  sugars  potass  vitamins  shelf  weight  cups     rating  \n",
       " 2     8.0     0.0   330.0        25      3    1.00  0.50  93.704912  \n",
       " 19   21.0     0.0     NaN         0      2    1.00  1.00  64.533816  \n",
       " 53   13.0     0.0    15.0         0      3    0.50  1.00  60.756112  \n",
       " 54   10.0     0.0    50.0         0      3    0.50  1.00  63.005645  \n",
       " 62   16.0     0.0    95.0         0      1    0.83  1.00  68.235885  \n",
       " 63   19.0     0.0   140.0         0      1    1.00  0.67  74.472949  \n",
       " 64   20.0     0.0   120.0         0      1    1.00  0.67  72.801787  )"
      ]
     },
     "execution_count": 24,
     "metadata": {},
     "output_type": "execute_result"
    }
   ],
   "source": [
    "\n",
    "# Identify cereals with highest fiber and lowest sugar\n",
    "highest_fiber = df[df['fiber'] == df['fiber'].max()]\n",
    "lowest_sugar = df[df['sugars'] == df['sugars'].min()]\n",
    "highest_fiber, lowest_sugar\n"
   ]
  },
  {
   "cell_type": "markdown",
   "id": "d07f5886",
   "metadata": {},
   "source": [
    "## 7. Which cereals have more than 3 grams of protein?"
   ]
  },
  {
   "cell_type": "code",
   "execution_count": 27,
   "id": "1cf603a0",
   "metadata": {},
   "outputs": [
    {
     "data": {
      "text/html": [
       "<div>\n",
       "<style scoped>\n",
       "    .dataframe tbody tr th:only-of-type {\n",
       "        vertical-align: middle;\n",
       "    }\n",
       "\n",
       "    .dataframe tbody tr th {\n",
       "        vertical-align: top;\n",
       "    }\n",
       "\n",
       "    .dataframe thead th {\n",
       "        text-align: right;\n",
       "    }\n",
       "</style>\n",
       "<table border=\"1\" class=\"dataframe\">\n",
       "  <thead>\n",
       "    <tr style=\"text-align: right;\">\n",
       "      <th></th>\n",
       "      <th>name</th>\n",
       "      <th>mfr</th>\n",
       "      <th>type</th>\n",
       "      <th>calories</th>\n",
       "      <th>protein</th>\n",
       "      <th>fat</th>\n",
       "      <th>sodium</th>\n",
       "      <th>fiber</th>\n",
       "      <th>carbo</th>\n",
       "      <th>sugars</th>\n",
       "      <th>potass</th>\n",
       "      <th>vitamins</th>\n",
       "      <th>shelf</th>\n",
       "      <th>weight</th>\n",
       "      <th>cups</th>\n",
       "      <th>rating</th>\n",
       "    </tr>\n",
       "  </thead>\n",
       "  <tbody>\n",
       "    <tr>\n",
       "      <th>1</th>\n",
       "      <td>All-Bran</td>\n",
       "      <td>K</td>\n",
       "      <td>C</td>\n",
       "      <td>70</td>\n",
       "      <td>4</td>\n",
       "      <td>1</td>\n",
       "      <td>260</td>\n",
       "      <td>9.0</td>\n",
       "      <td>7.0</td>\n",
       "      <td>5.0</td>\n",
       "      <td>320.0</td>\n",
       "      <td>25</td>\n",
       "      <td>3</td>\n",
       "      <td>1.0</td>\n",
       "      <td>0.33</td>\n",
       "      <td>59.425505</td>\n",
       "    </tr>\n",
       "    <tr>\n",
       "      <th>2</th>\n",
       "      <td>All-BranwithExtraFiber</td>\n",
       "      <td>K</td>\n",
       "      <td>C</td>\n",
       "      <td>50</td>\n",
       "      <td>4</td>\n",
       "      <td>0</td>\n",
       "      <td>140</td>\n",
       "      <td>14.0</td>\n",
       "      <td>8.0</td>\n",
       "      <td>0.0</td>\n",
       "      <td>330.0</td>\n",
       "      <td>25</td>\n",
       "      <td>3</td>\n",
       "      <td>1.0</td>\n",
       "      <td>0.50</td>\n",
       "      <td>93.704912</td>\n",
       "    </tr>\n",
       "    <tr>\n",
       "      <th>10</th>\n",
       "      <td>Cheerios</td>\n",
       "      <td>G</td>\n",
       "      <td>C</td>\n",
       "      <td>110</td>\n",
       "      <td>6</td>\n",
       "      <td>2</td>\n",
       "      <td>290</td>\n",
       "      <td>2.0</td>\n",
       "      <td>17.0</td>\n",
       "      <td>1.0</td>\n",
       "      <td>105.0</td>\n",
       "      <td>25</td>\n",
       "      <td>1</td>\n",
       "      <td>1.0</td>\n",
       "      <td>1.25</td>\n",
       "      <td>50.764999</td>\n",
       "    </tr>\n",
       "    <tr>\n",
       "      <th>40</th>\n",
       "      <td>Life</td>\n",
       "      <td>Q</td>\n",
       "      <td>C</td>\n",
       "      <td>100</td>\n",
       "      <td>4</td>\n",
       "      <td>2</td>\n",
       "      <td>150</td>\n",
       "      <td>2.0</td>\n",
       "      <td>12.0</td>\n",
       "      <td>6.0</td>\n",
       "      <td>95.0</td>\n",
       "      <td>25</td>\n",
       "      <td>2</td>\n",
       "      <td>1.0</td>\n",
       "      <td>0.67</td>\n",
       "      <td>45.328074</td>\n",
       "    </tr>\n",
       "    <tr>\n",
       "      <th>42</th>\n",
       "      <td>Maypo</td>\n",
       "      <td>A</td>\n",
       "      <td>H</td>\n",
       "      <td>100</td>\n",
       "      <td>4</td>\n",
       "      <td>1</td>\n",
       "      <td>0</td>\n",
       "      <td>0.0</td>\n",
       "      <td>16.0</td>\n",
       "      <td>3.0</td>\n",
       "      <td>95.0</td>\n",
       "      <td>25</td>\n",
       "      <td>2</td>\n",
       "      <td>1.0</td>\n",
       "      <td>1.00</td>\n",
       "      <td>54.850917</td>\n",
       "    </tr>\n",
       "    <tr>\n",
       "      <th>43</th>\n",
       "      <td>MuesliRaisinsDatesAlmonds</td>\n",
       "      <td>R</td>\n",
       "      <td>C</td>\n",
       "      <td>150</td>\n",
       "      <td>4</td>\n",
       "      <td>3</td>\n",
       "      <td>95</td>\n",
       "      <td>3.0</td>\n",
       "      <td>16.0</td>\n",
       "      <td>11.0</td>\n",
       "      <td>170.0</td>\n",
       "      <td>25</td>\n",
       "      <td>3</td>\n",
       "      <td>1.0</td>\n",
       "      <td>1.00</td>\n",
       "      <td>37.136863</td>\n",
       "    </tr>\n",
       "    <tr>\n",
       "      <th>44</th>\n",
       "      <td>MuesliRaisinsPeachesPecans</td>\n",
       "      <td>R</td>\n",
       "      <td>C</td>\n",
       "      <td>150</td>\n",
       "      <td>4</td>\n",
       "      <td>3</td>\n",
       "      <td>150</td>\n",
       "      <td>3.0</td>\n",
       "      <td>16.0</td>\n",
       "      <td>11.0</td>\n",
       "      <td>170.0</td>\n",
       "      <td>25</td>\n",
       "      <td>3</td>\n",
       "      <td>1.0</td>\n",
       "      <td>1.00</td>\n",
       "      <td>34.139765</td>\n",
       "    </tr>\n",
       "    <tr>\n",
       "      <th>55</th>\n",
       "      <td>QuakerOatSquares</td>\n",
       "      <td>Q</td>\n",
       "      <td>C</td>\n",
       "      <td>100</td>\n",
       "      <td>4</td>\n",
       "      <td>1</td>\n",
       "      <td>135</td>\n",
       "      <td>2.0</td>\n",
       "      <td>14.0</td>\n",
       "      <td>6.0</td>\n",
       "      <td>110.0</td>\n",
       "      <td>25</td>\n",
       "      <td>3</td>\n",
       "      <td>1.0</td>\n",
       "      <td>0.50</td>\n",
       "      <td>49.511874</td>\n",
       "    </tr>\n",
       "    <tr>\n",
       "      <th>56</th>\n",
       "      <td>QuakerOatmeal</td>\n",
       "      <td>Q</td>\n",
       "      <td>H</td>\n",
       "      <td>100</td>\n",
       "      <td>5</td>\n",
       "      <td>2</td>\n",
       "      <td>0</td>\n",
       "      <td>2.7</td>\n",
       "      <td>NaN</td>\n",
       "      <td>NaN</td>\n",
       "      <td>110.0</td>\n",
       "      <td>0</td>\n",
       "      <td>1</td>\n",
       "      <td>1.0</td>\n",
       "      <td>0.67</td>\n",
       "      <td>50.828392</td>\n",
       "    </tr>\n",
       "    <tr>\n",
       "      <th>66</th>\n",
       "      <td>SpecialK</td>\n",
       "      <td>K</td>\n",
       "      <td>C</td>\n",
       "      <td>110</td>\n",
       "      <td>6</td>\n",
       "      <td>0</td>\n",
       "      <td>230</td>\n",
       "      <td>1.0</td>\n",
       "      <td>16.0</td>\n",
       "      <td>3.0</td>\n",
       "      <td>55.0</td>\n",
       "      <td>25</td>\n",
       "      <td>1</td>\n",
       "      <td>1.0</td>\n",
       "      <td>1.00</td>\n",
       "      <td>53.131324</td>\n",
       "    </tr>\n",
       "  </tbody>\n",
       "</table>\n",
       "</div>"
      ],
      "text/plain": [
       "                          name mfr type  calories  protein  fat  sodium  \\\n",
       "1                     All-Bran   K    C        70        4    1     260   \n",
       "2       All-BranwithExtraFiber   K    C        50        4    0     140   \n",
       "10                    Cheerios   G    C       110        6    2     290   \n",
       "40                        Life   Q    C       100        4    2     150   \n",
       "42                       Maypo   A    H       100        4    1       0   \n",
       "43   MuesliRaisinsDatesAlmonds   R    C       150        4    3      95   \n",
       "44  MuesliRaisinsPeachesPecans   R    C       150        4    3     150   \n",
       "55            QuakerOatSquares   Q    C       100        4    1     135   \n",
       "56               QuakerOatmeal   Q    H       100        5    2       0   \n",
       "66                    SpecialK   K    C       110        6    0     230   \n",
       "\n",
       "    fiber  carbo  sugars  potass  vitamins  shelf  weight  cups     rating  \n",
       "1     9.0    7.0     5.0   320.0        25      3     1.0  0.33  59.425505  \n",
       "2    14.0    8.0     0.0   330.0        25      3     1.0  0.50  93.704912  \n",
       "10    2.0   17.0     1.0   105.0        25      1     1.0  1.25  50.764999  \n",
       "40    2.0   12.0     6.0    95.0        25      2     1.0  0.67  45.328074  \n",
       "42    0.0   16.0     3.0    95.0        25      2     1.0  1.00  54.850917  \n",
       "43    3.0   16.0    11.0   170.0        25      3     1.0  1.00  37.136863  \n",
       "44    3.0   16.0    11.0   170.0        25      3     1.0  1.00  34.139765  \n",
       "55    2.0   14.0     6.0   110.0        25      3     1.0  0.50  49.511874  \n",
       "56    2.7    NaN     NaN   110.0         0      1     1.0  0.67  50.828392  \n",
       "66    1.0   16.0     3.0    55.0        25      1     1.0  1.00  53.131324  "
      ]
     },
     "execution_count": 27,
     "metadata": {},
     "output_type": "execute_result"
    }
   ],
   "source": [
    "\n",
    "# Cereals with more than 3 grams of protein\n",
    "high_protein_cereals = df[df['protein'] > 3]\n",
    "high_protein_cereals\n"
   ]
  },
  {
   "cell_type": "markdown",
   "id": "a9a6c8d7",
   "metadata": {},
   "source": [
    "## 8. Tabulate and visualize cereals by display shelf."
   ]
  },
  {
   "cell_type": "code",
   "execution_count": 30,
   "id": "1f630de4",
   "metadata": {},
   "outputs": [
    {
     "data": {
      "image/png": "[encoded data removed]",
      "text/plain": [
       "<Figure size 640x480 with 1 Axes>"
      ]
     },
     "metadata": {},
     "output_type": "display_data"
    }
   ],
   "source": [
    "\n",
    "# Count cereals per shelf\n",
    "shelf_distribution = df['shelf'].value_counts()\n",
    "shelf_distribution.plot(kind='bar', title='Cereals by Display Shelf', color=['blue', 'green', 'red'])\n",
    "plt.xlabel('Shelf Number')\n",
    "plt.ylabel('Number of Cereals')\n",
    "plt.show()\n"
   ]
  },
  {
   "cell_type": "markdown",
   "id": "941720f7",
   "metadata": {},
   "source": [
    "## 9. How does the sugar content vary across different brands?"
   ]
  },
  {
   "cell_type": "code",
   "execution_count": 33,
   "id": "19b5aad9",
   "metadata": {},
   "outputs": [
    {
     "name": "stderr",
     "output_type": "stream",
     "text": [
      "C:\\Users\\srdk7\\AppData\\Local\\Temp\\ipykernel_58572\\1969422112.py:3: FutureWarning: \n",
      "\n",
      "Passing `palette` without assigning `hue` is deprecated and will be removed in v0.14.0. Assign the `x` variable to `hue` and set `legend=False` for the same effect.\n",
      "\n",
      "  sns.boxplot(x='mfr', y='sugars', data=df, palette='pastel')\n"
     ]
    },
    {
     "data": {
      "image/png": "[encoded data removed]",
      "text/plain": [
       "<Figure size 1000x500 with 1 Axes>"
      ]
     },
     "metadata": {},
     "output_type": "display_data"
    }
   ],
   "source": [
    "\n",
    "# Sugar content by manufacturer\n",
    "plt.figure(figsize=(10, 5))\n",
    "sns.boxplot(x='mfr', y='sugars', data=df, palette='pastel')\n",
    "plt.title('Sugar Content Across Different Manufacturers')\n",
    "plt.xlabel('Manufacturer')\n",
    "plt.ylabel('Sugar Content')\n",
    "plt.show()\n"
   ]
  },
  {
   "cell_type": "markdown",
   "id": "c835bd6f",
   "metadata": {},
   "source": [
    "## 10. What is the average calories in cereals per manufacturer?"
   ]
  },
  {
   "cell_type": "code",
   "execution_count": 36,
   "id": "4b5415af",
   "metadata": {},
   "outputs": [
    {
     "data": {
      "text/plain": [
       "mfr\n",
       "A    100.000000\n",
       "G    111.363636\n",
       "K    108.695652\n",
       "N     90.000000\n",
       "P    108.888889\n",
       "Q     95.000000\n",
       "R    115.000000\n",
       "Name: calories, dtype: float64"
      ]
     },
     "execution_count": 36,
     "metadata": {},
     "output_type": "execute_result"
    }
   ],
   "source": [
    "\n",
    "# Average calories per manufacturer\n",
    "avg_calories_per_mfr = df.groupby('mfr')['calories'].mean()\n",
    "avg_calories_per_mfr\n"
   ]
  },
  {
   "cell_type": "markdown",
   "id": "b6997aa8",
   "metadata": {},
   "source": [
    "## 11. What is the average nutritional content across all cereals?"
   ]
  },
  {
   "cell_type": "code",
   "execution_count": 39,
   "id": "48756647",
   "metadata": {},
   "outputs": [
    {
     "data": {
      "text/plain": [
       "calories    107.368421\n",
       "protein       2.526316\n",
       "fat           1.013158\n",
       "sodium      160.065789\n",
       "fiber         2.048684\n",
       "carbo        14.933333\n",
       "sugars        7.040000\n",
       "potass       96.216216\n",
       "vitamins     28.289474\n",
       "shelf         2.197368\n",
       "weight        1.030000\n",
       "cups          0.827500\n",
       "rating       42.327057\n",
       "dtype: float64"
      ]
     },
     "execution_count": 39,
     "metadata": {},
     "output_type": "execute_result"
    }
   ],
   "source": [
    "\n",
    "# Average nutritional values across cereals\n",
    "avg_nutritional_content = df.select_dtypes(include=['number']).mean()\n",
    "avg_nutritional_content\n"
   ]
  },
  {
   "cell_type": "markdown",
   "id": "ee250592",
   "metadata": {},
   "source": [
    "## 12. What is the relationship between sugar and calories?"
   ]
  },
  {
   "cell_type": "code",
   "execution_count": 42,
   "id": "495cdea7",
   "metadata": {},
   "outputs": [
    {
     "data": {
      "image/png": "[encoded data removed]",
      "text/plain": [
       "<Figure size 800x500 with 1 Axes>"
      ]
     },
     "metadata": {},
     "output_type": "display_data"
    }
   ],
   "source": [
    "\n",
    "# Scatter plot of sugar vs. calories\n",
    "plt.figure(figsize=(8, 5))\n",
    "sns.scatterplot(x=df['sugars'], y=df['calories'])\n",
    "plt.title('Sugar vs Calories Relationship')\n",
    "plt.xlabel('Sugar Content')\n",
    "plt.ylabel('Calories')\n",
    "plt.show()\n"
   ]
  },
  {
   "cell_type": "markdown",
   "id": "3b4f6807",
   "metadata": {},
   "source": [
    "## 13. How does the sugar content compare in cereals with high vs. low ratings?"
   ]
  },
  {
   "cell_type": "code",
   "execution_count": 45,
   "id": "065bec6a",
   "metadata": {},
   "outputs": [
    {
     "data": {
      "text/plain": [
       "(3.7837837837837838, 10.210526315789474)"
      ]
     },
     "execution_count": 45,
     "metadata": {},
     "output_type": "execute_result"
    }
   ],
   "source": [
    "\n",
    "# Compare sugar content in high vs. low rated cereals\n",
    "median_rating = df['rating'].median()\n",
    "high_rated = df[df['rating'] >= median_rating]['sugars'].mean()\n",
    "low_rated = df[df['rating'] < median_rating]['sugars'].mean()\n",
    "high_rated, low_rated\n"
   ]
  },
  {
   "cell_type": "markdown",
   "id": "de11a0aa",
   "metadata": {},
   "source": [
    "## 14. Do healthy cereals (high fiber, low sugar) tend to have higher ratings?"
   ]
  },
  {
   "cell_type": "code",
   "execution_count": 48,
   "id": "c1195c4c",
   "metadata": {},
   "outputs": [
    {
     "data": {
      "text/plain": [
       "(56.521204499999996, 42.32705672368421)"
      ]
     },
     "execution_count": 48,
     "metadata": {},
     "output_type": "execute_result"
    }
   ],
   "source": [
    "\n",
    "# Checking rating for high fiber & low sugar cereals\n",
    "healthy_cereals = df[(df['fiber'] > df['fiber'].median()) & (df['sugars'] < df['sugars'].median())]\n",
    "healthy_cereal_rating = healthy_cereals['rating'].mean()\n",
    "overall_avg_rating = df['rating'].mean()\n",
    "healthy_cereal_rating, overall_avg_rating\n"
   ]
  },
  {
   "cell_type": "markdown",
   "id": "dea144b3",
   "metadata": {},
   "source": [
    "## 15. Is there a relationship between rating and display shelf?"
   ]
  },
  {
   "cell_type": "code",
   "execution_count": 51,
   "id": "59c100b7",
   "metadata": {},
   "outputs": [
    {
     "name": "stderr",
     "output_type": "stream",
     "text": [
      "C:\\Users\\srdk7\\AppData\\Local\\Temp\\ipykernel_58572\\3735569894.py:3: FutureWarning: \n",
      "\n",
      "Passing `palette` without assigning `hue` is deprecated and will be removed in v0.14.0. Assign the `x` variable to `hue` and set `legend=False` for the same effect.\n",
      "\n",
      "  sns.boxplot(x='shelf', y='rating', data=df, palette='coolwarm')\n"
     ]
    },
    {
     "data": {
      "image/png": "[encoded data removed]",
      "text/plain": [
       "<Figure size 800x500 with 1 Axes>"
      ]
     },
     "metadata": {},
     "output_type": "display_data"
    }
   ],
   "source": [
    "\n",
    "# Boxplot of rating by shelf placement\n",
    "plt.figure(figsize=(8, 5))\n",
    "sns.boxplot(x='shelf', y='rating', data=df, palette='coolwarm')\n",
    "plt.title('Rating Distribution Across Display Shelves')\n",
    "plt.xlabel('Shelf Number')\n",
    "plt.ylabel('Rating')\n",
    "plt.show()\n"
   ]
  },
  {
   "cell_type": "code",
   "execution_count": null,
   "id": "c4ac9792-1207-4148-a5c7-ef293fcc85fe",
   "metadata": {},
   "outputs": [],
   "source": [
    "-"
   ]
  }
 ],
 "metadata": {
  "kernelspec": {
   "display_name": "Python 3 (ipykernel)",
   "language": "python",
   "name": "python3"
  },
  "language_info": {
   "codemirror_mode": {
    "name": "ipython",
    "version": 3
   },
   "file_extension": ".py",
   "mimetype": "text/x-python",
   "name": "python",
   "nbconvert_exporter": "python",
   "pygments_lexer": "ipython3",
   "version": "3.12.4"
  }
 },
 "nbformat": 4,
 "nbformat_minor": 5
}
