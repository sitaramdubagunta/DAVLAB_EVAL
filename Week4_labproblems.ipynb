{
 "cells": [
  {
   "cell_type": "markdown",
   "id": "36b18bad",
   "metadata": {},
   "source": [
    "# 1. Create a Series from a list of integers representing daily \n",
    "# temperatures (in Celsius) over a week. Assign index labels as day \n",
    "# of the week. \n",
    "a. Find and print the average (mean) temperature for the week. \n",
    "\n",
    "b. Identify and print the maximum and minimum temperatures \n",
    "and their respective days. \n",
    "\n",
    "c. Display the temperatures greater than a specific value.\n",
    "\n",
    "d. Convert all temperatures to Fahrenheit. \n",
    "\n",
    "e. Print the days had temperatures above the average. \n",
    "\n",
    "\n",
    "\n",
    "\n",
    "\n",
    "## 2. Create a data frame with details of 10 students and columns as \n",
    "## Roll Number, Name, Gender, Marks1, Marks2, Marks3. \n",
    "a. Create a new column with total marks \n",
    "\n",
    "b. Find the lowest marks in Marks1 \n",
    "\n",
    "c. Find the Highest marks in Marks2 \n",
    "\n",
    "d. Find the average marks in Marks3 \n",
    "\n",
    "e. Find student name with highest average \n",
    "\n",
    "f. Find how many students failed in Marks2 (<40)\n"
   ]
  },
  {
   "cell_type": "markdown",
   "id": "96d38e8e",
   "metadata": {},
   "source": [
    "## Problem 1"
   ]
  },
  {
   "cell_type": "code",
   "execution_count": 1,
   "id": "ac0d2073",
   "metadata": {},
   "outputs": [
    {
     "data": {
      "text/plain": [
       "sunday       23\n",
       "monday       25\n",
       "tuesday      24\n",
       "wednesday    26\n",
       "thursday     27\n",
       "friday       28\n",
       "saturday     30\n",
       "dtype: int64"
      ]
     },
     "execution_count": 1,
     "metadata": {},
     "output_type": "execute_result"
    }
   ],
   "source": [
    "#sitaram dubagunta , PC 50 , 240911624\n",
    "\n",
    "import pandas as pd\n",
    "import numpy as np\n",
    "\n",
    "temp = [23,25,24,26,27,28,30]\n",
    "temp = pd.Series(temp , index = [\"sunday\" , \"monday\" , \"tuesday\" ,\"wednesday\" ,\"thursday\" ,\"friday\",\"saturday\"])\n",
    "temp"
   ]
  },
  {
   "cell_type": "code",
   "execution_count": 2,
   "id": "ecadb12b",
   "metadata": {},
   "outputs": [
    {
     "name": "stdout",
     "output_type": "stream",
     "text": [
      "average temperature of the week 26.142857142857142\n"
     ]
    }
   ],
   "source": [
    "average_temp = temp.mean()\n",
    "print(\"average temperature of the week\" ,  average_temp)"
   ]
  },
  {
   "cell_type": "code",
   "execution_count": 3,
   "id": "7bad9776",
   "metadata": {},
   "outputs": [
    {
     "name": "stdout",
     "output_type": "stream",
     "text": [
      "maximum temperature of the week 30\n"
     ]
    }
   ],
   "source": [
    "max_temp = temp.max()\n",
    "print(\"maximum temperature of the week\" , max_temp)"
   ]
  },
  {
   "cell_type": "code",
   "execution_count": 4,
   "id": "2530069f",
   "metadata": {},
   "outputs": [
    {
     "name": "stdout",
     "output_type": "stream",
     "text": [
      "minimum temperature of the week 23\n"
     ]
    }
   ],
   "source": [
    "min_temp = temp.min()\n",
    "print(\"minimum temperature of the week\" , min_temp)"
   ]
  },
  {
   "cell_type": "code",
   "execution_count": 5,
   "id": "25240b2a",
   "metadata": {},
   "outputs": [
    {
     "data": {
      "text/plain": [
       "wednesday    26\n",
       "thursday     27\n",
       "friday       28\n",
       "saturday     30\n",
       "dtype: int64"
      ]
     },
     "execution_count": 5,
     "metadata": {},
     "output_type": "execute_result"
    }
   ],
   "source": [
    "#displaying the temperatures from the series that are greatre than 25\n",
    "\n",
    "temp.loc[temp > 25]"
   ]
  },
  {
   "cell_type": "code",
   "execution_count": 6,
   "id": "53f796d9",
   "metadata": {},
   "outputs": [],
   "source": [
    "temp = temp*(1.8) +32"
   ]
  },
  {
   "cell_type": "code",
   "execution_count": 7,
   "id": "13836192",
   "metadata": {},
   "outputs": [
    {
     "data": {
      "text/plain": [
       "sunday       73.4\n",
       "monday       77.0\n",
       "tuesday      75.2\n",
       "wednesday    78.8\n",
       "thursday     80.6\n",
       "friday       82.4\n",
       "saturday     86.0\n",
       "dtype: float64"
      ]
     },
     "execution_count": 7,
     "metadata": {},
     "output_type": "execute_result"
    }
   ],
   "source": [
    "temp"
   ]
  },
  {
   "cell_type": "code",
   "execution_count": 8,
   "id": "acc92b8c",
   "metadata": {},
   "outputs": [
    {
     "data": {
      "text/plain": [
       "thursday    80.6\n",
       "friday      82.4\n",
       "saturday    86.0\n",
       "dtype: float64"
      ]
     },
     "execution_count": 8,
     "metadata": {},
     "output_type": "execute_result"
    }
   ],
   "source": [
    "temp.loc[temp > temp.mean()]"
   ]
  },
  {
   "cell_type": "markdown",
   "id": "cd9cfcca",
   "metadata": {},
   "source": [
    "## Problem 2"
   ]
  },
  {
   "cell_type": "code",
   "execution_count": 14,
   "id": "26a0e075",
   "metadata": {},
   "outputs": [],
   "source": []
  },
  {
   "cell_type": "code",
   "execution_count": 1,
   "id": "4c223d1a",
   "metadata": {},
   "outputs": [
    {
     "name": "stdout",
     "output_type": "stream",
     "text": [
      "Original DataFrame:\n",
      "   Roll Number     Name Gender  Marks1  Marks2  Marks3\n",
      "0            1    Alice      F      85      82      80\n",
      "1            2      Bob      M      90      88      85\n",
      "2            3  Charlie      M      78      75      70\n",
      "3            4    David      M      92      90      88\n",
      "4            5      Eva      F      88      85      82\n",
      "5            6    Frank      M      76      72      70\n",
      "6            7    Grace      F      95      92      90\n",
      "7            8     Hank      M      89      87      84\n",
      "8            9      Ivy      F      80      78      75\n",
      "9           10     Jack      M      70      68      65\n",
      "\n",
      "DataFrame with Total Marks:\n",
      "   Roll Number     Name Gender  Marks1  Marks2  Marks3  Total Marks\n",
      "0            1    Alice      F      85      82      80          247\n",
      "1            2      Bob      M      90      88      85          263\n",
      "2            3  Charlie      M      78      75      70          223\n",
      "3            4    David      M      92      90      88          270\n",
      "4            5      Eva      F      88      85      82          255\n",
      "5            6    Frank      M      76      72      70          218\n",
      "6            7    Grace      F      95      92      90          277\n",
      "7            8     Hank      M      89      87      84          260\n",
      "8            9      Ivy      F      80      78      75          233\n",
      "9           10     Jack      M      70      68      65          203\n",
      "\n",
      "Lowest marks in Marks1: 70\n",
      "Highest marks in Marks2: 92\n",
      "Average marks in Marks3: 78.90\n",
      "Student with the highest average: Grace\n",
      "Number of students who failed in Marks2: 0\n"
     ]
    }
   ],
   "source": [
    "import pandas as pd\n",
    "# Step 1: Create a DataFrame with details of 10 students\n",
    "data = {\n",
    "\"Roll Number\": [1, 2, 3, 4, 5, 6, 7, 8, 9, 10],\n",
    "\"Name\": [\"Alice\", \"Bob\", \"Charlie\", \"David\", \"Eva\", \"Frank\",\n",
    "\"Grace\", \"Hank\", \"Ivy\", \"Jack\"],\n",
    "\"Gender\": [\"F\", \"M\", \"M\", \"M\", \"F\", \"M\", \"F\", \"M\", \"F\", \"M\"],\n",
    "\"Marks1\": [85, 90, 78, 92, 88, 76, 95, 89, 80, 70],\n",
    "\"Marks2\": [82, 88, 75, 90, 85, 72, 92, 87, 78, 68],\n",
    "\"Marks3\": [80, 85, 70, 88, 82, 70, 90, 84, 75, 65]\n",
    "}\n",
    "df = pd.DataFrame(data)\n",
    "print(\"Original DataFrame:\")\n",
    "print(df)\n",
    "# Step a: Create a new column with total marks\n",
    "df[\"Total Marks\"] = df[\"Marks1\"] + df[\"Marks2\"] + df[\"Marks3\"]\n",
    "print(\"\\nDataFrame with Total Marks:\")\n",
    "print(df)\n",
    "# Step b: Find the lowest marks in Marks1\n",
    "lowest_marks1 = df[\"Marks1\"].min()\n",
    "print(f\"\\nLowest marks in Marks1: {lowest_marks1}\")\n",
    "# Step c: Find the highest marks in Marks2\n",
    "highest_marks2 = df[\"Marks2\"].max()\n",
    "print(f\"Highest marks in Marks2: {highest_marks2}\")\n",
    "# Step d: Find the average marks in Marks3\n",
    "average_marks3 = df[\"Marks3\"].mean()\n",
    "print(f\"Average marks in Marks3: {average_marks3:.2f}\")\n",
    "# Step e: Find the student name with the highest average\n",
    "df[\"Average Marks\"] = df[[\"Marks1\", \"Marks2\", \"Marks3\"]].mean(axis=1)\n",
    "student_highest_avg = df.loc[df[\"Average Marks\"].idxmax(), \"Name\"]\n",
    "print(f\"Student with the highest average: {student_highest_avg}\")\n",
    "# Step f: Find how many students failed in Marks2 (marks < 40)\n",
    "failed_students = df[df[\"Marks2\"] < 40].shape[0]\n",
    "print(f\"Number of students who failed in Marks2: {failed_students}\")"
   ]
  },
  {
   "cell_type": "code",
   "execution_count": null,
   "id": "4742ee4f",
   "metadata": {},
   "outputs": [],
   "source": []
  }
 ],
 "metadata": {
  "kernelspec": {
   "display_name": "Python 3",
   "language": "python",
   "name": "python3"
  },
  "language_info": {
   "codemirror_mode": {
    "name": "ipython",
    "version": 3
   },
   "file_extension": ".py",
   "mimetype": "text/x-python",
   "name": "python",
   "nbconvert_exporter": "python",
   "pygments_lexer": "ipython3",
   "version": "3.11.9"
  }
 },
 "nbformat": 4,
 "nbformat_minor": 5
}
